{
  "nbformat": 4,
  "nbformat_minor": 0,
  "metadata": {
    "colab": {
      "name": "gan-mnist.ipynb",
      "version": "0.3.2",
      "provenance": [],
      "collapsed_sections": [],
      "toc_visible": true
    },
    "kernelspec": {
      "name": "python3",
      "display_name": "Python 3"
    }
  },
  "cells": [
    {
      "cell_type": "markdown",
      "metadata": {
        "id": "O6NX08GRfRli",
        "colab_type": "text"
      },
      "source": [
        "#GAN - MNIST"
      ]
    },
    {
      "cell_type": "markdown",
      "metadata": {
        "id": "LzajUrQPpHKA",
        "colab_type": "text"
      },
      "source": [
        "##Imports"
      ]
    },
    {
      "cell_type": "code",
      "metadata": {
        "id": "e0xXTO7ijGHG",
        "colab_type": "code",
        "colab": {}
      },
      "source": [
        "\n",
        "%matplotlib inline\n",
        "import numpy as np\n",
        "import torch\n",
        "import matplotlib.pyplot as plt\n",
        "import torchvision\n",
        "from torchvision import datasets\n",
        "import torchvision.transforms as transforms\n",
        "from torch.utils.data import DataLoader\n",
        "\n"
      ],
      "execution_count": 0,
      "outputs": []
    },
    {
      "cell_type": "markdown",
      "metadata": {
        "id": "CdLFetGwpJka",
        "colab_type": "text"
      },
      "source": [
        "##Initialization"
      ]
    },
    {
      "cell_type": "code",
      "metadata": {
        "id": "XT0Pp1UljUPC",
        "colab_type": "code",
        "colab": {}
      },
      "source": [
        "\n",
        "# Initialize Batch Size\n",
        "batch_size = 64\n",
        "\n",
        "# number of subprocesses to use for data loading\n",
        "num_workers = 0\n",
        "\n",
        "transform = transforms.ToTensor()\n",
        "\n",
        "# Load Dataset\n",
        "train_dataset = datasets.MNIST(root='data', train=True, download =True, transform=transform)\n",
        "\n",
        "# Prepare the dataloader\n",
        "train_loader = torch.utils.data.DataLoader(dataset=train_dataset, batch_size=batch_size, num_workers=num_workers )\n"
      ],
      "execution_count": 0,
      "outputs": []
    },
    {
      "cell_type": "markdown",
      "metadata": {
        "id": "Hh0dtKrSpL81",
        "colab_type": "text"
      },
      "source": [
        "##Data Visualization"
      ]
    },
    {
      "cell_type": "code",
      "metadata": {
        "id": "ouajGzj3lD-y",
        "colab_type": "code",
        "outputId": "05807def-e768-4d31-a0b7-169b3153f1aa",
        "colab": {
          "base_uri": "https://localhost:8080/",
          "height": 231
        }
      },
      "source": [
        "# obtain one batch of training images\n",
        "dataiter = iter(train_loader)\n",
        "images, labels = dataiter.next()\n",
        "images = images.numpy()\n",
        "\n",
        "# get one image from the batch\n",
        "img = np.squeeze(images[0])\n",
        "\n",
        "fig = plt.figure(figsize = (3,3)) \n",
        "px = fig.add_subplot(111)\n",
        "px.imshow(img, cmap='gray')"
      ],
      "execution_count": 4,
      "outputs": [
        {
          "output_type": "execute_result",
          "data": {
            "text/plain": [
              "<matplotlib.image.AxesImage at 0x7fd8e66b8d30>"
            ]
          },
          "metadata": {
            "tags": []
          },
          "execution_count": 4
        },
        {
          "output_type": "display_data",
          "data": {
            "image/png": "[encoded data removed]",
            "text/plain": [
              "<Figure size 216x216 with 1 Axes>"
            ]
          },
          "metadata": {
            "tags": []
          }
        }
      ]
    },
    {
      "cell_type": "markdown",
      "metadata": {
        "id": "9JLQbBVsfIee",
        "colab_type": "text"
      },
      "source": [
        "#GAN Model\n",
        "##Discriminator\n"
      ]
    },
    {
      "cell_type": "markdown",
      "metadata": {
        "id": "CvZKA89_gFpJ",
        "colab_type": "text"
      },
      "source": [
        "It is a linear classifier with 2 hidden layers. This network uses leaky ReLU as an activation function.\n",
        "A leaky ReLU is a normal ReLU function but it return small non-zero value for negative inputs. We use leaky ReLU so gradients can backward propagate without hinderance."
      ]
    },
    {
      "cell_type": "markdown",
      "metadata": {
        "id": "j-NsvpxokELz",
        "colab_type": "text"
      },
      "source": [
        "Using a BCEWithLogitsLoss which combines a Sigmoid layer and the BCELoss in one single class. This version is more numerically stable. Source: [Documentation](https://pytorch.org/docs/stable/nn.html#bcewithlogitsloss)"
      ]
    },
    {
      "cell_type": "code",
      "metadata": {
        "id": "fIXXb3PCobrr",
        "colab_type": "code",
        "colab": {}
      },
      "source": [
        "import torch.nn as nn\n",
        "import torch.nn.functional as F\n",
        "\n",
        "class Discriminator(nn.Module):\n",
        "  \n",
        "  def __init__(self, input_size, hidden_dim, output_size):\n",
        "    super(Discriminator, self).__init__()\n",
        "    \n",
        "    # Layers\n",
        "    self.conv1 = nn.Linear(input_size, hidden_dim*4)    # Input Layer\n",
        "    self.conv2 = nn.Linear(hidden_dim*4, hidden_dim*2)\n",
        "    self.conv3 = nn.Linear(hidden_dim*2, hidden_dim)\n",
        "    self.conv4 = nn.Linear(hidden_dim, output_size)  # Final Layer\n",
        "    \n",
        "    # Dropout layer\n",
        "    self.dropout = nn.Dropout(0.3)\n",
        "    \n",
        "  def forward(self, x):\n",
        "    # Flatten image\n",
        "    x = x.view(-1, 28*28)\n",
        "      \n",
        "    x = F.leaky_relu(self.conv1(x), 0.2)   # (input, negative_slope)\n",
        "    x = self.dropout(x)\n",
        "    x = F.leaky_relu(self.conv2(x), 0.2)\n",
        "    x = self.dropout(x)\n",
        "    x = F.leaky_relu(self.conv3(x), 0.2)\n",
        "    x = self.dropout(x)\n",
        "     \n",
        "    # Final Layer\n",
        "    out = self.conv4(x)\n",
        "    return out\n",
        "    \n",
        " \n",
        "  "
      ],
      "execution_count": 0,
      "outputs": []
    },
    {
      "cell_type": "markdown",
      "metadata": {
        "id": "zRe74OSRxRu3",
        "colab_type": "text"
      },
      "source": [
        "##Add Generator"
      ]
    },
    {
      "cell_type": "markdown",
      "metadata": {
        "id": "atwr3f4-xVzb",
        "colab_type": "text"
      },
      "source": [
        "Works like the Discriminator but use tanh as an activation function in the output layer.\n",
        "Generator works best when tanh is scaled between -1 and 1.\n",
        "So we will have to scale our real input images to have pixel values between -1 and 1 when we train the discriminator."
      ]
    },
    {
      "cell_type": "code",
      "metadata": {
        "id": "8Cf2_ZpmwBK2",
        "colab_type": "code",
        "colab": {}
      },
      "source": [
        "class Generator(nn.Module):\n",
        "  \n",
        "  def __init__(self, input_size, hidden_dim, output_size):\n",
        "    super(Generator, self).__init__()\n",
        "    \n",
        "    # Layers\n",
        "    self.conv1 = nn.Linear(input_size, hidden_dim)    # Input Layer\n",
        "    self.conv2 = nn.Linear(hidden_dim, hidden_dim*2)\n",
        "    self.conv3 = nn.Linear(hidden_dim*2, hidden_dim*4)\n",
        "    self.conv4 = nn.Linear(hidden_dim*4, output_size)  # Final Layer\n",
        "    \n",
        "    # Dropout layer\n",
        "    self.dropout = nn.Dropout(0.3)\n",
        "  \n",
        "  def forward(self, x):\n",
        "    x = F.leaky_relu(self.conv1(x), 0.2)   # (input, negative_slope)\n",
        "    x = self.dropout(x)\n",
        "    x = F.leaky_relu(self.conv2(x), 0.2)\n",
        "    x = self.dropout(x)\n",
        "    x = F.leaky_relu(self.conv3(x), 0.2)\n",
        "    x = self.dropout(x)\n",
        "     \n",
        "    # Final Layer\n",
        "    output = F.tanh(self.conv4(x))\n",
        "      \n",
        "    return output\n",
        "    \n",
        "   \n",
        "  "
      ],
      "execution_count": 0,
      "outputs": []
    },
    {
      "cell_type": "markdown",
      "metadata": {
        "id": "EhKJivAX1Sz6",
        "colab_type": "text"
      },
      "source": [
        "##Model Hyperparameters"
      ]
    },
    {
      "cell_type": "code",
      "metadata": {
        "id": "AT5uVBitzZlX",
        "colab_type": "code",
        "colab": {}
      },
      "source": [
        "# Discriminator Hyperarameters\n",
        "\n",
        "# Size of input image\n",
        "input_size = 784\n",
        "# Size of discriminator output\n",
        "d_output_size = 1\n",
        "# Size of last hidden layer in discriminator (layer 3)\n",
        "d_hidden_size = 32\n",
        "\n",
        "\n",
        "# Generator Hyperparamters\n",
        "\n",
        "# Size of latent vector to give to Generator (reffered as noise)\n",
        "z_size = 100\n",
        "# Size of discriminator output (generated image)\n",
        "g_output_size = 784\n",
        "# Size of first hidden layer\n",
        "g_hidden_size = 32\n",
        "\n"
      ],
      "execution_count": 0,
      "outputs": []
    },
    {
      "cell_type": "markdown",
      "metadata": {
        "id": "2tPGG7ZJ9m6e",
        "colab_type": "text"
      },
      "source": [
        "##Building Network\n",
        "Instantiating the current network"
      ]
    },
    {
      "cell_type": "code",
      "metadata": {
        "id": "_GvnM5aq9Smb",
        "colab_type": "code",
        "outputId": "256d1b6f-9b33-48c6-e377-ad9734123ed9",
        "colab": {
          "base_uri": "https://localhost:8080/",
          "height": 272
        }
      },
      "source": [
        "D = Discriminator(input_size, d_hidden_size, d_output_size)\n",
        "G = Generator(z_size, g_hidden_size, g_output_size)\n",
        "\n",
        "print(D)\n",
        "print()\n",
        "print(G)\n"
      ],
      "execution_count": 8,
      "outputs": [
        {
          "output_type": "stream",
          "text": [
            "Discriminator(\n",
            "  (conv1): Linear(in_features=784, out_features=128, bias=True)\n",
            "  (conv2): Linear(in_features=128, out_features=64, bias=True)\n",
            "  (conv3): Linear(in_features=64, out_features=32, bias=True)\n",
            "  (conv4): Linear(in_features=32, out_features=1, bias=True)\n",
            "  (dropout): Dropout(p=0.3)\n",
            ")\n",
            "\n",
            "Generator(\n",
            "  (conv1): Linear(in_features=100, out_features=32, bias=True)\n",
            "  (conv2): Linear(in_features=32, out_features=64, bias=True)\n",
            "  (conv3): Linear(in_features=64, out_features=128, bias=True)\n",
            "  (conv4): Linear(in_features=128, out_features=784, bias=True)\n",
            "  (dropout): Dropout(p=0.3)\n",
            ")\n"
          ],
          "name": "stdout"
        }
      ]
    },
    {
      "cell_type": "markdown",
      "metadata": {
        "id": "rc7Dhd7rxBPl",
        "colab_type": "text"
      },
      "source": [
        "##Discriminator and Generator Losses\n",
        "###Discriminator Loss\n",
        "*  Total loss = real loss + fake loss (d_loss = d_real_loss + d_fake_loss)\n",
        "*   Output = 1 for real images\n",
        "*   Output = 0 for fake images\n",
        "*   Using BCEWithLogitsLoss\n",
        "*   To generalize better we reduce the real label classification limit to 0.9 - 1.0, using *smooth* parmeter for this\n",
        "*   Generator outputs images, we want D(fake_images) = 0\n",
        "\n",
        "###Generator Loss\n",
        "*   Similar to Discriminator only flipped, D(fake_images) = 1\n",
        "*   The labels are flipped to represent that the generator is trying to fool the discriminator into thinking that the images it generates (fakes) are real!\n"
      ]
    },
    {
      "cell_type": "code",
      "metadata": {
        "id": "EltQcy1e-TFm",
        "colab_type": "code",
        "colab": {}
      },
      "source": [
        "\n",
        "# Calculating losses\n",
        "def real_loss(D_out, smooth=False):\n",
        "    batch_size = D_out.size(0)\n",
        "    # label smoothing\n",
        "    if smooth:\n",
        "        # smooth, real labels = 0.9\n",
        "        labels = torch.ones(batch_size)*0.9\n",
        "    else:\n",
        "        labels = torch.ones(batch_size) # real labels = 1\n",
        "        \n",
        "    # numerically stable loss\n",
        "    criterion = nn.BCEWithLogitsLoss()\n",
        "    # calculate loss\n",
        "    loss = criterion(D_out.squeeze(), labels)\n",
        "    return loss\n",
        "\n",
        "def fake_loss(D_out):\n",
        "    batch_size = D_out.size(0)\n",
        "    labels = torch.zeros(batch_size) # fake labels = 0\n",
        "    criterion = nn.BCEWithLogitsLoss()\n",
        "    # calculate loss\n",
        "    loss = criterion(D_out.squeeze(), labels)\n",
        "    return loss\n",
        "\n"
      ],
      "execution_count": 0,
      "outputs": []
    },
    {
      "cell_type": "markdown",
      "metadata": {
        "id": "WjUBhCqpl3Mc",
        "colab_type": "text"
      },
      "source": [
        "##Optimizers\n",
        "Updating generator and discriminator separately. Assigning two separate Adam optimizers."
      ]
    },
    {
      "cell_type": "code",
      "metadata": {
        "id": "GqJbeEOBL55d",
        "colab_type": "code",
        "colab": {}
      },
      "source": [
        "import torch.optim as optim\n",
        "\n",
        "# Learning Rate\n",
        "lr = 0.002\n",
        "\n",
        "# Optimizers\n",
        "d_optimizer = optim.Adam(D.parameters(), lr)\n",
        "g_optimizer = optim.Adam(G.parameters(), lr)\n"
      ],
      "execution_count": 0,
      "outputs": []
    },
    {
      "cell_type": "markdown",
      "metadata": {
        "id": "hy2h4rrQfudK",
        "colab_type": "text"
      },
      "source": [
        "##Training\n",
        "We will use real_loss and fake_loss to calculate losses in all the following cases\n",
        "###Discriminator\n",
        "*   Compute discriminator loss on real, training images\n",
        "*   Generate fake images\n",
        "*   Compute loss on fake (generated) images\n",
        "*   Add real and fake loss\n",
        "*   Perform backpropagation + an optimization step to update discriminator weights\n",
        "\n",
        "###Generator\n",
        "*   Generate fake images\n",
        "*   Compute discriminator loss on fake (generated) images\n",
        "*   Perform backpropagation + an optimization step to update generator weights\n",
        "\n",
        "###Saving Samples\n",
        "As we train, we printout loss statistics and save images"
      ]
    },
    {
      "cell_type": "code",
      "metadata": {
        "id": "iTX72hbaL4-c",
        "colab_type": "code",
        "outputId": "e3bce1f5-f16f-4eee-c57b-c6c64a43c89d",
        "colab": {
          "base_uri": "https://localhost:8080/",
          "height": 5171
        }
      },
      "source": [
        "import pickle as pkl\n",
        "\n",
        "# training hyperparams\n",
        "num_epochs = 100\n",
        "\n",
        "# keep track of loss and generated, \"fake\" samples\n",
        "samples = []\n",
        "losses = []\n",
        "\n",
        "print_every = 400\n",
        "\n",
        "# Get some fixed data for sampling. These are images that are held\n",
        "# constant throughout training, and allow us to inspect the model's performance\n",
        "sample_size=16\n",
        "fixed_z = np.random.uniform(-1, 1, size=(sample_size, z_size))\n",
        "fixed_z = torch.from_numpy(fixed_z).float()\n",
        "\n",
        "# train the network\n",
        "D.train()\n",
        "G.train()\n",
        "for epoch in range(num_epochs):\n",
        "    \n",
        "    for batch_i, (real_images, _) in enumerate(train_loader):\n",
        "                \n",
        "        batch_size = real_images.size(0)\n",
        "        \n",
        "        ## Important rescaling step ## \n",
        "        real_images = real_images*2 - 1  # rescale input images from [0,1) to [-1, 1)\n",
        "\n",
        "        #  TRAIN THE DISCRIMINATOR\n",
        "        d_optimizer.zero_grad()\n",
        "        \n",
        "        # 1. Train with real images\n",
        "\n",
        "        # Compute the discriminator losses on real images \n",
        "        # smooth the real labels\n",
        "        D_real = D(real_images)\n",
        "        d_real_loss = real_loss(D_real, smooth=True)\n",
        "        \n",
        "        # 2. Train with fake images\n",
        "        \n",
        "        # Generate fake images\n",
        "        z = np.random.uniform(-1, 1, size=(batch_size, z_size))\n",
        "        z = torch.from_numpy(z).float()\n",
        "        fake_images = G(z)\n",
        "        \n",
        "        # Compute the discriminator losses on fake images        \n",
        "        D_fake = D(fake_images)\n",
        "        d_fake_loss = fake_loss(D_fake)\n",
        "        \n",
        "        # add up loss and perform backprop\n",
        "        d_loss = d_real_loss + d_fake_loss\n",
        "        d_loss.backward()\n",
        "        d_optimizer.step()\n",
        "        \n",
        "        \n",
        "\n",
        "        #  TRAIN THE GENERATOR\n",
        "        g_optimizer.zero_grad()\n",
        "        \n",
        "        # 1. Train with fake images and flipped labels\n",
        "        \n",
        "        # Generate fake images\n",
        "        z = np.random.uniform(-1, 1, size=(batch_size, z_size))\n",
        "        z = torch.from_numpy(z).float()\n",
        "        fake_images = G(z)\n",
        "        \n",
        "        # Compute the discriminator losses on fake images \n",
        "        # using flipped labels!\n",
        "        D_fake = D(fake_images)\n",
        "        g_loss = real_loss(D_fake) # use real loss to flip labels\n",
        "        \n",
        "        # perform backprop\n",
        "        g_loss.backward()\n",
        "        g_optimizer.step()\n",
        "\n",
        "        # Print some loss stats\n",
        "        if batch_i % print_every == 0:\n",
        "            # print discriminator and generator loss\n",
        "            print('Epoch [{:5d}/{:5d}] | d_loss: {:6.4f} | g_loss: {:6.4f}'.format(\n",
        "                    epoch+1, num_epochs, d_loss.item(), g_loss.item()))\n",
        "\n",
        "    \n",
        "    # AFTER EACH EPOCH\n",
        "    # append discriminator loss and generator loss\n",
        "    losses.append((d_loss.item(), g_loss.item()))\n",
        "    \n",
        "    # generate and save sample, fake images\n",
        "    G.eval() # eval mode for generating samples\n",
        "    samples_z = G(fixed_z)\n",
        "    samples.append(samples_z)\n",
        "    G.train() # back to train mode\n",
        "\n",
        "\n"
      ],
      "execution_count": 11,
      "outputs": [
        {
          "output_type": "stream",
          "text": [
            "/usr/local/lib/python3.6/dist-packages/torch/nn/functional.py:1374: UserWarning: nn.functional.tanh is deprecated. Use torch.tanh instead.\n",
            "  warnings.warn(\"nn.functional.tanh is deprecated. Use torch.tanh instead.\")\n"
          ],
          "name": "stderr"
        },
        {
          "output_type": "stream",
          "text": [
            "Epoch [    1/  100] | d_loss: 1.3992 | g_loss: 0.7484\n",
            "Epoch [    1/  100] | d_loss: 1.0931 | g_loss: 1.5593\n",
            "Epoch [    1/  100] | d_loss: 0.9760 | g_loss: 2.3195\n",
            "Epoch [    2/  100] | d_loss: 0.7339 | g_loss: 3.8131\n",
            "Epoch [    2/  100] | d_loss: 1.3849 | g_loss: 0.6767\n",
            "Epoch [    2/  100] | d_loss: 0.9668 | g_loss: 2.0296\n",
            "Epoch [    3/  100] | d_loss: 1.4315 | g_loss: 0.6674\n",
            "Epoch [    3/  100] | d_loss: 1.0626 | g_loss: 2.0613\n",
            "Epoch [    3/  100] | d_loss: 0.8987 | g_loss: 1.9366\n",
            "Epoch [    4/  100] | d_loss: 1.0449 | g_loss: 1.1931\n",
            "Epoch [    4/  100] | d_loss: 1.1475 | g_loss: 1.0485\n",
            "Epoch [    4/  100] | d_loss: 1.0689 | g_loss: 1.3453\n",
            "Epoch [    5/  100] | d_loss: 1.1927 | g_loss: 1.0090\n",
            "Epoch [    5/  100] | d_loss: 0.9082 | g_loss: 1.4851\n",
            "Epoch [    5/  100] | d_loss: 1.1532 | g_loss: 1.1206\n",
            "Epoch [    6/  100] | d_loss: 1.2625 | g_loss: 1.2479\n",
            "Epoch [    6/  100] | d_loss: 1.1051 | g_loss: 1.8081\n",
            "Epoch [    6/  100] | d_loss: 1.3676 | g_loss: 0.8761\n",
            "Epoch [    7/  100] | d_loss: 1.2039 | g_loss: 1.5512\n",
            "Epoch [    7/  100] | d_loss: 1.2681 | g_loss: 1.3314\n",
            "Epoch [    7/  100] | d_loss: 1.0448 | g_loss: 2.6045\n",
            "Epoch [    8/  100] | d_loss: 1.2187 | g_loss: 1.3992\n",
            "Epoch [    8/  100] | d_loss: 1.2300 | g_loss: 2.8577\n",
            "Epoch [    8/  100] | d_loss: 1.1569 | g_loss: 1.3407\n",
            "Epoch [    9/  100] | d_loss: 1.4344 | g_loss: 3.0895\n",
            "Epoch [    9/  100] | d_loss: 1.0334 | g_loss: 3.4214\n",
            "Epoch [    9/  100] | d_loss: 1.1559 | g_loss: 1.1393\n",
            "Epoch [   10/  100] | d_loss: 1.2476 | g_loss: 1.1487\n",
            "Epoch [   10/  100] | d_loss: 1.0619 | g_loss: 1.3186\n",
            "Epoch [   10/  100] | d_loss: 1.0657 | g_loss: 1.8688\n",
            "Epoch [   11/  100] | d_loss: 1.2555 | g_loss: 1.1369\n",
            "Epoch [   11/  100] | d_loss: 1.1712 | g_loss: 1.4814\n",
            "Epoch [   11/  100] | d_loss: 1.3787 | g_loss: 0.7645\n",
            "Epoch [   12/  100] | d_loss: 1.2705 | g_loss: 0.9081\n",
            "Epoch [   12/  100] | d_loss: 1.1604 | g_loss: 1.0471\n",
            "Epoch [   12/  100] | d_loss: 1.3025 | g_loss: 0.9758\n",
            "Epoch [   13/  100] | d_loss: 1.2759 | g_loss: 0.9602\n",
            "Epoch [   13/  100] | d_loss: 1.3079 | g_loss: 0.8824\n",
            "Epoch [   13/  100] | d_loss: 1.3436 | g_loss: 0.8901\n",
            "Epoch [   14/  100] | d_loss: 1.3475 | g_loss: 1.0105\n",
            "Epoch [   14/  100] | d_loss: 1.2982 | g_loss: 1.1151\n",
            "Epoch [   14/  100] | d_loss: 1.3362 | g_loss: 0.9266\n",
            "Epoch [   15/  100] | d_loss: 1.3231 | g_loss: 0.9698\n",
            "Epoch [   15/  100] | d_loss: 1.3413 | g_loss: 0.9331\n",
            "Epoch [   15/  100] | d_loss: 1.3258 | g_loss: 0.8411\n",
            "Epoch [   16/  100] | d_loss: 1.3186 | g_loss: 0.8903\n",
            "Epoch [   16/  100] | d_loss: 1.3630 | g_loss: 1.0403\n",
            "Epoch [   16/  100] | d_loss: 1.4396 | g_loss: 0.9110\n",
            "Epoch [   17/  100] | d_loss: 1.2581 | g_loss: 1.0796\n",
            "Epoch [   17/  100] | d_loss: 1.3420 | g_loss: 0.9599\n",
            "Epoch [   17/  100] | d_loss: 1.2693 | g_loss: 1.0984\n",
            "Epoch [   18/  100] | d_loss: 1.1660 | g_loss: 1.1605\n",
            "Epoch [   18/  100] | d_loss: 1.1316 | g_loss: 1.5866\n",
            "Epoch [   18/  100] | d_loss: 1.3496 | g_loss: 1.1475\n",
            "Epoch [   19/  100] | d_loss: 1.2629 | g_loss: 1.3117\n",
            "Epoch [   19/  100] | d_loss: 1.2650 | g_loss: 0.9423\n",
            "Epoch [   19/  100] | d_loss: 1.2539 | g_loss: 1.0325\n",
            "Epoch [   20/  100] | d_loss: 1.3028 | g_loss: 0.9359\n",
            "Epoch [   20/  100] | d_loss: 1.1799 | g_loss: 0.9680\n",
            "Epoch [   20/  100] | d_loss: 1.2496 | g_loss: 1.0018\n",
            "Epoch [   21/  100] | d_loss: 1.2567 | g_loss: 1.0076\n",
            "Epoch [   21/  100] | d_loss: 1.1808 | g_loss: 0.9658\n",
            "Epoch [   21/  100] | d_loss: 1.3647 | g_loss: 0.9584\n",
            "Epoch [   22/  100] | d_loss: 1.3123 | g_loss: 1.1746\n",
            "Epoch [   22/  100] | d_loss: 1.1604 | g_loss: 1.4458\n",
            "Epoch [   22/  100] | d_loss: 1.2293 | g_loss: 0.9816\n",
            "Epoch [   23/  100] | d_loss: 1.2894 | g_loss: 1.0172\n",
            "Epoch [   23/  100] | d_loss: 1.2844 | g_loss: 1.0593\n",
            "Epoch [   23/  100] | d_loss: 1.3170 | g_loss: 1.1541\n",
            "Epoch [   24/  100] | d_loss: 1.2380 | g_loss: 1.1158\n",
            "Epoch [   24/  100] | d_loss: 1.2017 | g_loss: 1.0039\n",
            "Epoch [   24/  100] | d_loss: 1.3457 | g_loss: 1.9918\n",
            "Epoch [   25/  100] | d_loss: 1.2978 | g_loss: 1.1001\n",
            "Epoch [   25/  100] | d_loss: 1.2576 | g_loss: 1.0768\n",
            "Epoch [   25/  100] | d_loss: 1.2819 | g_loss: 1.1846\n",
            "Epoch [   26/  100] | d_loss: 1.3124 | g_loss: 1.0939\n",
            "Epoch [   26/  100] | d_loss: 1.2642 | g_loss: 1.2340\n",
            "Epoch [   26/  100] | d_loss: 1.2887 | g_loss: 1.0206\n",
            "Epoch [   27/  100] | d_loss: 1.3073 | g_loss: 1.0090\n",
            "Epoch [   27/  100] | d_loss: 1.3046 | g_loss: 1.2142\n",
            "Epoch [   27/  100] | d_loss: 1.3057 | g_loss: 0.9366\n",
            "Epoch [   28/  100] | d_loss: 1.1577 | g_loss: 1.4035\n",
            "Epoch [   28/  100] | d_loss: 1.2775 | g_loss: 1.0357\n",
            "Epoch [   28/  100] | d_loss: 1.2811 | g_loss: 0.9219\n",
            "Epoch [   29/  100] | d_loss: 1.2572 | g_loss: 1.0635\n",
            "Epoch [   29/  100] | d_loss: 1.2846 | g_loss: 1.1877\n",
            "Epoch [   29/  100] | d_loss: 1.2302 | g_loss: 1.3484\n",
            "Epoch [   30/  100] | d_loss: 1.3184 | g_loss: 0.9917\n",
            "Epoch [   30/  100] | d_loss: 1.2357 | g_loss: 0.9493\n",
            "Epoch [   30/  100] | d_loss: 1.1467 | g_loss: 1.7456\n",
            "Epoch [   31/  100] | d_loss: 1.2800 | g_loss: 1.0633\n",
            "Epoch [   31/  100] | d_loss: 1.1698 | g_loss: 1.2365\n",
            "Epoch [   31/  100] | d_loss: 1.3742 | g_loss: 1.0955\n",
            "Epoch [   32/  100] | d_loss: 1.4172 | g_loss: 1.5072\n",
            "Epoch [   32/  100] | d_loss: 1.3073 | g_loss: 1.0800\n",
            "Epoch [   32/  100] | d_loss: 1.1923 | g_loss: 1.0263\n",
            "Epoch [   33/  100] | d_loss: 1.2983 | g_loss: 0.8723\n",
            "Epoch [   33/  100] | d_loss: 1.2532 | g_loss: 0.8911\n",
            "Epoch [   33/  100] | d_loss: 1.3468 | g_loss: 0.9995\n",
            "Epoch [   34/  100] | d_loss: 1.2216 | g_loss: 1.0730\n",
            "Epoch [   34/  100] | d_loss: 1.3798 | g_loss: 1.0211\n",
            "Epoch [   34/  100] | d_loss: 1.4154 | g_loss: 1.2047\n",
            "Epoch [   35/  100] | d_loss: 1.2832 | g_loss: 0.9816\n",
            "Epoch [   35/  100] | d_loss: 1.3162 | g_loss: 0.9971\n",
            "Epoch [   35/  100] | d_loss: 1.3816 | g_loss: 1.0434\n",
            "Epoch [   36/  100] | d_loss: 1.3275 | g_loss: 0.7978\n",
            "Epoch [   36/  100] | d_loss: 1.1958 | g_loss: 1.1330\n",
            "Epoch [   36/  100] | d_loss: 1.2029 | g_loss: 1.2777\n",
            "Epoch [   37/  100] | d_loss: 1.3059 | g_loss: 0.8597\n",
            "Epoch [   37/  100] | d_loss: 1.2580 | g_loss: 0.8781\n",
            "Epoch [   37/  100] | d_loss: 1.3007 | g_loss: 1.1470\n",
            "Epoch [   38/  100] | d_loss: 1.3132 | g_loss: 1.0955\n",
            "Epoch [   38/  100] | d_loss: 1.2844 | g_loss: 0.9421\n",
            "Epoch [   38/  100] | d_loss: 1.3435 | g_loss: 0.9635\n",
            "Epoch [   39/  100] | d_loss: 1.2415 | g_loss: 1.0786\n",
            "Epoch [   39/  100] | d_loss: 1.2752 | g_loss: 1.0249\n",
            "Epoch [   39/  100] | d_loss: 1.2581 | g_loss: 1.1188\n",
            "Epoch [   40/  100] | d_loss: 1.3865 | g_loss: 0.9556\n",
            "Epoch [   40/  100] | d_loss: 1.4029 | g_loss: 0.8325\n",
            "Epoch [   40/  100] | d_loss: 1.2841 | g_loss: 1.2353\n",
            "Epoch [   41/  100] | d_loss: 1.2848 | g_loss: 1.0414\n",
            "Epoch [   41/  100] | d_loss: 1.3181 | g_loss: 0.8924\n",
            "Epoch [   41/  100] | d_loss: 1.3481 | g_loss: 0.9886\n",
            "Epoch [   42/  100] | d_loss: 1.3555 | g_loss: 1.1332\n",
            "Epoch [   42/  100] | d_loss: 1.3133 | g_loss: 1.0571\n",
            "Epoch [   42/  100] | d_loss: 1.3737 | g_loss: 1.0525\n",
            "Epoch [   43/  100] | d_loss: 1.3097 | g_loss: 0.9453\n",
            "Epoch [   43/  100] | d_loss: 1.2585 | g_loss: 0.9039\n",
            "Epoch [   43/  100] | d_loss: 1.3717 | g_loss: 0.8046\n",
            "Epoch [   44/  100] | d_loss: 1.2552 | g_loss: 0.9896\n",
            "Epoch [   44/  100] | d_loss: 1.2696 | g_loss: 0.9304\n",
            "Epoch [   44/  100] | d_loss: 1.3319 | g_loss: 0.9178\n",
            "Epoch [   45/  100] | d_loss: 1.2371 | g_loss: 0.9456\n",
            "Epoch [   45/  100] | d_loss: 1.2224 | g_loss: 0.9910\n",
            "Epoch [   45/  100] | d_loss: 1.2375 | g_loss: 1.1417\n",
            "Epoch [   46/  100] | d_loss: 1.2856 | g_loss: 1.1338\n",
            "Epoch [   46/  100] | d_loss: 1.3399 | g_loss: 0.8972\n",
            "Epoch [   46/  100] | d_loss: 1.2889 | g_loss: 0.9046\n",
            "Epoch [   47/  100] | d_loss: 1.2807 | g_loss: 0.9792\n",
            "Epoch [   47/  100] | d_loss: 1.2591 | g_loss: 1.1075\n",
            "Epoch [   47/  100] | d_loss: 1.3240 | g_loss: 0.8548\n",
            "Epoch [   48/  100] | d_loss: 1.6043 | g_loss: 1.1963\n",
            "Epoch [   48/  100] | d_loss: 1.2981 | g_loss: 0.9309\n",
            "Epoch [   48/  100] | d_loss: 1.3616 | g_loss: 1.0802\n",
            "Epoch [   49/  100] | d_loss: 1.2430 | g_loss: 1.1200\n",
            "Epoch [   49/  100] | d_loss: 1.2797 | g_loss: 1.0068\n",
            "Epoch [   49/  100] | d_loss: 1.2862 | g_loss: 1.0439\n",
            "Epoch [   50/  100] | d_loss: 1.3274 | g_loss: 1.0863\n",
            "Epoch [   50/  100] | d_loss: 1.2987 | g_loss: 1.0626\n",
            "Epoch [   50/  100] | d_loss: 1.3990 | g_loss: 0.9397\n",
            "Epoch [   51/  100] | d_loss: 1.3509 | g_loss: 1.2032\n",
            "Epoch [   51/  100] | d_loss: 1.2249 | g_loss: 1.0904\n",
            "Epoch [   51/  100] | d_loss: 1.3221 | g_loss: 0.9270\n",
            "Epoch [   52/  100] | d_loss: 1.3110 | g_loss: 0.9207\n",
            "Epoch [   52/  100] | d_loss: 1.3054 | g_loss: 0.9037\n",
            "Epoch [   52/  100] | d_loss: 1.2926 | g_loss: 0.9811\n",
            "Epoch [   53/  100] | d_loss: 1.3788 | g_loss: 1.1465\n",
            "Epoch [   53/  100] | d_loss: 1.2116 | g_loss: 1.3727\n",
            "Epoch [   53/  100] | d_loss: 1.4530 | g_loss: 0.9800\n",
            "Epoch [   54/  100] | d_loss: 1.4414 | g_loss: 1.3763\n",
            "Epoch [   54/  100] | d_loss: 1.2224 | g_loss: 0.9353\n",
            "Epoch [   54/  100] | d_loss: 1.3415 | g_loss: 0.9715\n",
            "Epoch [   55/  100] | d_loss: 1.3208 | g_loss: 1.2165\n",
            "Epoch [   55/  100] | d_loss: 1.2241 | g_loss: 1.2522\n",
            "Epoch [   55/  100] | d_loss: 1.4708 | g_loss: 0.9447\n",
            "Epoch [   56/  100] | d_loss: 1.3000 | g_loss: 0.8024\n",
            "Epoch [   56/  100] | d_loss: 1.1363 | g_loss: 1.0830\n",
            "Epoch [   56/  100] | d_loss: 1.3053 | g_loss: 1.0469\n",
            "Epoch [   57/  100] | d_loss: 1.2466 | g_loss: 0.9236\n",
            "Epoch [   57/  100] | d_loss: 1.3643 | g_loss: 1.0625\n",
            "Epoch [   57/  100] | d_loss: 1.3869 | g_loss: 0.9736\n",
            "Epoch [   58/  100] | d_loss: 1.1434 | g_loss: 1.2267\n",
            "Epoch [   58/  100] | d_loss: 1.1593 | g_loss: 1.3133\n",
            "Epoch [   58/  100] | d_loss: 1.3826 | g_loss: 1.1487\n",
            "Epoch [   59/  100] | d_loss: 1.3448 | g_loss: 0.9178\n",
            "Epoch [   59/  100] | d_loss: 1.2588 | g_loss: 1.0159\n",
            "Epoch [   59/  100] | d_loss: 1.4414 | g_loss: 0.9773\n",
            "Epoch [   60/  100] | d_loss: 1.2749 | g_loss: 0.9068\n",
            "Epoch [   60/  100] | d_loss: 1.3160 | g_loss: 1.1669\n",
            "Epoch [   60/  100] | d_loss: 1.1633 | g_loss: 1.3299\n",
            "Epoch [   61/  100] | d_loss: 1.3992 | g_loss: 0.9729\n",
            "Epoch [   61/  100] | d_loss: 1.3016 | g_loss: 0.9708\n",
            "Epoch [   61/  100] | d_loss: 1.3498 | g_loss: 0.9673\n",
            "Epoch [   62/  100] | d_loss: 1.3352 | g_loss: 0.8655\n",
            "Epoch [   62/  100] | d_loss: 1.3360 | g_loss: 1.2242\n",
            "Epoch [   62/  100] | d_loss: 1.2953 | g_loss: 0.9372\n",
            "Epoch [   63/  100] | d_loss: 1.2564 | g_loss: 1.1185\n",
            "Epoch [   63/  100] | d_loss: 1.2244 | g_loss: 1.2534\n",
            "Epoch [   63/  100] | d_loss: 1.4154 | g_loss: 0.9751\n",
            "Epoch [   64/  100] | d_loss: 1.3514 | g_loss: 1.4102\n",
            "Epoch [   64/  100] | d_loss: 1.2423 | g_loss: 1.0374\n",
            "Epoch [   64/  100] | d_loss: 1.4526 | g_loss: 1.0282\n",
            "Epoch [   65/  100] | d_loss: 1.2354 | g_loss: 1.0810\n",
            "Epoch [   65/  100] | d_loss: 1.3025 | g_loss: 0.9978\n",
            "Epoch [   65/  100] | d_loss: 1.3578 | g_loss: 0.9252\n",
            "Epoch [   66/  100] | d_loss: 1.3035 | g_loss: 0.9248\n",
            "Epoch [   66/  100] | d_loss: 1.3208 | g_loss: 0.8997\n",
            "Epoch [   66/  100] | d_loss: 1.3037 | g_loss: 0.9592\n",
            "Epoch [   67/  100] | d_loss: 1.2613 | g_loss: 1.1687\n",
            "Epoch [   67/  100] | d_loss: 1.3319 | g_loss: 1.0339\n",
            "Epoch [   67/  100] | d_loss: 1.4068 | g_loss: 1.0812\n",
            "Epoch [   68/  100] | d_loss: 1.2287 | g_loss: 1.1260\n",
            "Epoch [   68/  100] | d_loss: 1.2118 | g_loss: 0.9178\n",
            "Epoch [   68/  100] | d_loss: 1.1919 | g_loss: 1.3225\n",
            "Epoch [   69/  100] | d_loss: 1.2823 | g_loss: 0.9598\n",
            "Epoch [   69/  100] | d_loss: 1.3202 | g_loss: 0.9642\n",
            "Epoch [   69/  100] | d_loss: 1.1921 | g_loss: 1.1763\n",
            "Epoch [   70/  100] | d_loss: 1.2394 | g_loss: 0.9392\n",
            "Epoch [   70/  100] | d_loss: 1.2369 | g_loss: 0.8962\n",
            "Epoch [   70/  100] | d_loss: 1.2242 | g_loss: 0.9813\n",
            "Epoch [   71/  100] | d_loss: 1.1533 | g_loss: 1.2051\n",
            "Epoch [   71/  100] | d_loss: 1.2478 | g_loss: 1.1075\n",
            "Epoch [   71/  100] | d_loss: 1.3002 | g_loss: 1.1223\n",
            "Epoch [   72/  100] | d_loss: 1.1856 | g_loss: 1.1190\n",
            "Epoch [   72/  100] | d_loss: 1.2836 | g_loss: 0.9663\n",
            "Epoch [   72/  100] | d_loss: 1.3324 | g_loss: 0.9874\n",
            "Epoch [   73/  100] | d_loss: 1.2968 | g_loss: 0.9944\n",
            "Epoch [   73/  100] | d_loss: 1.3207 | g_loss: 1.0150\n",
            "Epoch [   73/  100] | d_loss: 1.3232 | g_loss: 0.9119\n",
            "Epoch [   74/  100] | d_loss: 1.2628 | g_loss: 1.0372\n",
            "Epoch [   74/  100] | d_loss: 1.2981 | g_loss: 0.9561\n",
            "Epoch [   74/  100] | d_loss: 1.2070 | g_loss: 1.6416\n",
            "Epoch [   75/  100] | d_loss: 1.3743 | g_loss: 1.4190\n",
            "Epoch [   75/  100] | d_loss: 1.3055 | g_loss: 0.8942\n",
            "Epoch [   75/  100] | d_loss: 1.2721 | g_loss: 1.0882\n",
            "Epoch [   76/  100] | d_loss: 1.2890 | g_loss: 1.0798\n",
            "Epoch [   76/  100] | d_loss: 1.2682 | g_loss: 0.9772\n",
            "Epoch [   76/  100] | d_loss: 1.3036 | g_loss: 1.2365\n",
            "Epoch [   77/  100] | d_loss: 1.2096 | g_loss: 1.2597\n",
            "Epoch [   77/  100] | d_loss: 1.3313 | g_loss: 1.0118\n",
            "Epoch [   77/  100] | d_loss: 1.3613 | g_loss: 1.1624\n",
            "Epoch [   78/  100] | d_loss: 1.3226 | g_loss: 0.9327\n",
            "Epoch [   78/  100] | d_loss: 1.2882 | g_loss: 0.9826\n",
            "Epoch [   78/  100] | d_loss: 1.3932 | g_loss: 1.0095\n",
            "Epoch [   79/  100] | d_loss: 1.3298 | g_loss: 0.9090\n",
            "Epoch [   79/  100] | d_loss: 1.2948 | g_loss: 0.8989\n",
            "Epoch [   79/  100] | d_loss: 1.3355 | g_loss: 1.0867\n",
            "Epoch [   80/  100] | d_loss: 1.2829 | g_loss: 0.9873\n",
            "Epoch [   80/  100] | d_loss: 1.2440 | g_loss: 1.0745\n",
            "Epoch [   80/  100] | d_loss: 1.2586 | g_loss: 1.1387\n",
            "Epoch [   81/  100] | d_loss: 1.3280 | g_loss: 0.9344\n",
            "Epoch [   81/  100] | d_loss: 1.3012 | g_loss: 1.1978\n",
            "Epoch [   81/  100] | d_loss: 1.2690 | g_loss: 0.9246\n",
            "Epoch [   82/  100] | d_loss: 1.2858 | g_loss: 1.1188\n",
            "Epoch [   82/  100] | d_loss: 1.2892 | g_loss: 0.9659\n",
            "Epoch [   82/  100] | d_loss: 1.2962 | g_loss: 1.1387\n",
            "Epoch [   83/  100] | d_loss: 1.3164 | g_loss: 1.0905\n",
            "Epoch [   83/  100] | d_loss: 1.2929 | g_loss: 0.9672\n",
            "Epoch [   83/  100] | d_loss: 1.4258 | g_loss: 0.9767\n",
            "Epoch [   84/  100] | d_loss: 1.3189 | g_loss: 1.4481\n",
            "Epoch [   84/  100] | d_loss: 1.2498 | g_loss: 1.0437\n",
            "Epoch [   84/  100] | d_loss: 1.3422 | g_loss: 1.0957\n",
            "Epoch [   85/  100] | d_loss: 1.3169 | g_loss: 1.0806\n",
            "Epoch [   85/  100] | d_loss: 1.3563 | g_loss: 0.8809\n",
            "Epoch [   85/  100] | d_loss: 1.3661 | g_loss: 0.9876\n",
            "Epoch [   86/  100] | d_loss: 1.2293 | g_loss: 1.1668\n",
            "Epoch [   86/  100] | d_loss: 1.2550 | g_loss: 1.1101\n",
            "Epoch [   86/  100] | d_loss: 1.3243 | g_loss: 1.0413\n",
            "Epoch [   87/  100] | d_loss: 1.3945 | g_loss: 0.9325\n",
            "Epoch [   87/  100] | d_loss: 1.3397 | g_loss: 0.9108\n",
            "Epoch [   87/  100] | d_loss: 1.2206 | g_loss: 1.2336\n",
            "Epoch [   88/  100] | d_loss: 1.3531 | g_loss: 0.8573\n",
            "Epoch [   88/  100] | d_loss: 1.3435 | g_loss: 0.8840\n",
            "Epoch [   88/  100] | d_loss: 1.2616 | g_loss: 0.9650\n",
            "Epoch [   89/  100] | d_loss: 1.3536 | g_loss: 0.9180\n",
            "Epoch [   89/  100] | d_loss: 1.2706 | g_loss: 0.9052\n",
            "Epoch [   89/  100] | d_loss: 1.3865 | g_loss: 1.0652\n",
            "Epoch [   90/  100] | d_loss: 1.2491 | g_loss: 0.8549\n",
            "Epoch [   90/  100] | d_loss: 1.3041 | g_loss: 0.9534\n",
            "Epoch [   90/  100] | d_loss: 1.3431 | g_loss: 0.9674\n",
            "Epoch [   91/  100] | d_loss: 1.2192 | g_loss: 1.0238\n",
            "Epoch [   91/  100] | d_loss: 1.3800 | g_loss: 1.5331\n",
            "Epoch [   91/  100] | d_loss: 1.3540 | g_loss: 0.8505\n",
            "Epoch [   92/  100] | d_loss: 1.3718 | g_loss: 0.7989\n",
            "Epoch [   92/  100] | d_loss: 1.2839 | g_loss: 0.9441\n",
            "Epoch [   92/  100] | d_loss: 1.3235 | g_loss: 0.8991\n",
            "Epoch [   93/  100] | d_loss: 1.2286 | g_loss: 0.9775\n",
            "Epoch [   93/  100] | d_loss: 1.2361 | g_loss: 1.0470\n",
            "Epoch [   93/  100] | d_loss: 1.3612 | g_loss: 1.0198\n",
            "Epoch [   94/  100] | d_loss: 1.2858 | g_loss: 0.9741\n",
            "Epoch [   94/  100] | d_loss: 1.3190 | g_loss: 1.0225\n",
            "Epoch [   94/  100] | d_loss: 1.3334 | g_loss: 0.8434\n",
            "Epoch [   95/  100] | d_loss: 1.3099 | g_loss: 1.2452\n",
            "Epoch [   95/  100] | d_loss: 1.2988 | g_loss: 1.1371\n",
            "Epoch [   95/  100] | d_loss: 1.3626 | g_loss: 1.0444\n",
            "Epoch [   96/  100] | d_loss: 1.3449 | g_loss: 1.2821\n",
            "Epoch [   96/  100] | d_loss: 1.3618 | g_loss: 1.0556\n",
            "Epoch [   96/  100] | d_loss: 1.2660 | g_loss: 1.1198\n",
            "Epoch [   97/  100] | d_loss: 1.2445 | g_loss: 1.0675\n",
            "Epoch [   97/  100] | d_loss: 1.2388 | g_loss: 0.9678\n",
            "Epoch [   97/  100] | d_loss: 1.3382 | g_loss: 1.0047\n",
            "Epoch [   98/  100] | d_loss: 1.2880 | g_loss: 0.9681\n",
            "Epoch [   98/  100] | d_loss: 1.1717 | g_loss: 1.0880\n",
            "Epoch [   98/  100] | d_loss: 1.3285 | g_loss: 0.9334\n",
            "Epoch [   99/  100] | d_loss: 1.2165 | g_loss: 1.3612\n",
            "Epoch [   99/  100] | d_loss: 1.2291 | g_loss: 1.0204\n",
            "Epoch [   99/  100] | d_loss: 1.3519 | g_loss: 1.0408\n",
            "Epoch [  100/  100] | d_loss: 1.2102 | g_loss: 1.4812\n",
            "Epoch [  100/  100] | d_loss: 1.2508 | g_loss: 0.9028\n",
            "Epoch [  100/  100] | d_loss: 1.3336 | g_loss: 1.0443\n"
          ],
          "name": "stdout"
        }
      ]
    },
    {
      "cell_type": "markdown",
      "metadata": {
        "id": "lvRTre0wv36Y",
        "colab_type": "text"
      },
      "source": [
        "##Training Loss\n",
        "Plotting Training Loss for generator and Discriminator after each Epoch"
      ]
    },
    {
      "cell_type": "code",
      "metadata": {
        "id": "DEVC-6SqUF_l",
        "colab_type": "code",
        "colab": {}
      },
      "source": [
        "# Save training generator samples\n",
        "with open('train_samples.pkl', 'wb') as f:\n",
        "  pkl.dump(samples, f)\n",
        "      \n",
        "    \n",
        "    "
      ],
      "execution_count": 0,
      "outputs": []
    },
    {
      "cell_type": "code",
      "metadata": {
        "id": "LbN0Uhr-v1kb",
        "colab_type": "code",
        "colab": {
          "base_uri": "https://localhost:8080/",
          "height": 298
        },
        "outputId": "05efe690-00e8-46ea-8532-16b6893f59aa"
      },
      "source": [
        "fig, ax = plt.subplots()\n",
        "losses = np.array(losses)\n",
        "plt.plot(losses.T[0], label='Discriminator')\n",
        "plt.plot(losses.T[1], label='Generator')\n",
        "plt.title(\"Training Losses\")\n",
        "plt.legend()"
      ],
      "execution_count": 13,
      "outputs": [
        {
          "output_type": "execute_result",
          "data": {
            "text/plain": [
              "<matplotlib.legend.Legend at 0x7fd8e3db0978>"
            ]
          },
          "metadata": {
            "tags": []
          },
          "execution_count": 13
        },
        {
          "output_type": "display_data",
          "data": {
            "image/png": "[encoded data removed]",
            "text/plain": [
              "<Figure size 432x288 with 1 Axes>"
            ]
          },
          "metadata": {
            "tags": []
          }
        }
      ]
    },
    {
      "cell_type": "markdown",
      "metadata": {
        "id": "rItJxvHDwclI",
        "colab_type": "text"
      },
      "source": [
        "##Generator Samples from training\n",
        "We can view samples of images from generator, First we take a look at the images we saved during training.\n"
      ]
    },
    {
      "cell_type": "code",
      "metadata": {
        "id": "4CxAddB1wYz7",
        "colab_type": "code",
        "colab": {}
      },
      "source": [
        "# Helper function for viewing a list of passed in sample images\n",
        "def view_samples(epoch, samples):\n",
        "    fig, axes = plt.subplots(figsize=(7,7), nrows=4, ncols=4, sharey=True, sharex=True)\n",
        "    for ax, img in zip(axes.flatten(), samples[epoch]):\n",
        "        img = img.detach()\n",
        "        ax.xaxis.set_visible(False)\n",
        "        ax.yaxis.set_visible(False)\n",
        "        im = ax.imshow(img.reshape((28,28)), cmap='Greys_r')"
      ],
      "execution_count": 0,
      "outputs": []
    },
    {
      "cell_type": "code",
      "metadata": {
        "id": "iUvarntnw3no",
        "colab_type": "code",
        "colab": {}
      },
      "source": [
        "# Load samples from generator, taken while training\n",
        "with open('train_samples.pkl', 'rb') as f:\n",
        "    samples = pkl.load(f)"
      ],
      "execution_count": 0,
      "outputs": []
    },
    {
      "cell_type": "code",
      "metadata": {
        "id": "70nxUlaOBHZ6",
        "colab_type": "code",
        "colab": {
          "base_uri": "https://localhost:8080/",
          "height": 683
        },
        "outputId": "efddcfcc-cd5c-4597-a83f-32e91a08bc43"
      },
      "source": [
        "rows = 10 # split epochs into 10, so 100/10 = every 10 epochs\n",
        "cols = 6\n",
        "fig, axes = plt.subplots(figsize=(7,12), nrows=rows, ncols=cols, sharex=True, sharey=True)\n",
        "\n",
        "for sample, ax_row in zip(samples[::int(len(samples)/rows)], axes):\n",
        "    for img, ax in zip(sample[::int(len(sample)/cols)], ax_row):\n",
        "        img = img.detach()\n",
        "        ax.imshow(img.reshape((28,28)), cmap='Greys_r')\n",
        "        ax.xaxis.set_visible(False)\n",
        "        ax.yaxis.set_visible(False)"
      ],
      "execution_count": 16,
      "outputs": [
        {
          "output_type": "display_data",
          "data": {
            "image/png": "[encoded data removed]",
            "text/plain": [
              "<Figure size 504x864 with 60 Axes>"
            ]
          },
          "metadata": {
            "tags": []
          }
        }
      ]
    },
    {
      "cell_type": "code",
      "metadata": {
        "id": "WhfD4WiQBTRg",
        "colab_type": "code",
        "colab": {
          "base_uri": "https://localhost:8080/",
          "height": 465
        },
        "outputId": "ad04b238-557b-4a46-96a5-0bc9155eb2fe"
      },
      "source": [
        "# randomly generated, new latent vectors\n",
        "sample_size=16\n",
        "rand_z = np.random.uniform(-1, 1, size=(sample_size, z_size))\n",
        "rand_z = torch.from_numpy(rand_z).float()\n",
        "\n",
        "G.eval() # eval mode\n",
        "# generated samples\n",
        "rand_images = G(rand_z)\n",
        "\n",
        "# 0 indicates the first set of samples in the passed in list\n",
        "# and we only have one batch of samples, here\n",
        "view_samples(0, [rand_images])"
      ],
      "execution_count": 17,
      "outputs": [
        {
          "output_type": "stream",
          "text": [
            "/usr/local/lib/python3.6/dist-packages/torch/nn/functional.py:1374: UserWarning: nn.functional.tanh is deprecated. Use torch.tanh instead.\n",
            "  warnings.warn(\"nn.functional.tanh is deprecated. Use torch.tanh instead.\")\n"
          ],
          "name": "stderr"
        },
        {
          "output_type": "display_data",
          "data": {
            "image/png": "[encoded data removed]",
            "text/plain": [
              "<Figure size 504x504 with 16 Axes>"
            ]
          },
          "metadata": {
            "tags": []
          }
        }
      ]
    }
  ]
}